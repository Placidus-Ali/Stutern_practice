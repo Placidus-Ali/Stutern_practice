{
 "cells": [
  {
   "cell_type": "code",
   "execution_count": null,
   "metadata": {},
   "outputs": [],
   "source": [
    "import pandas as pd\n"
   ]
  },
  {
   "cell_type": "code",
   "execution_count": null,
   "metadata": {},
   "outputs": [],
   "source": [
    "df = pd.read_csv('cleaning_sample.csv')\n",
    "df.head()\n"
   ]
  },
  {
   "cell_type": "markdown",
   "metadata": {},
   "source": [
    "# dealing with inconsistent column names and fileds"
   ]
  },
  {
   "cell_type": "code",
   "execution_count": 9,
   "metadata": {},
   "outputs": [
    {
     "ename": "AttributeError",
     "evalue": "'StringMethods' object has no attribute 'tittle'",
     "output_type": "error",
     "traceback": [
      "\u001b[1;31m---------------------------------------------------------------------------\u001b[0m",
      "\u001b[1;31mAttributeError\u001b[0m                            Traceback (most recent call last)",
      "\u001b[1;32mc:\\Users\\STUTERN\\Desktop\\Stutern_practice\\model8\\lesson3.ipynb Cell 4\u001b[0m in \u001b[0;36m<cell line: 5>\u001b[1;34m()\u001b[0m\n\u001b[0;32m      <a href='vscode-notebook-cell:/c%3A/Users/STUTERN/Desktop/Stutern_practice/model8/lesson3.ipynb#W3sZmlsZQ%3D%3D?line=1'>2</a>\u001b[0m df\u001b[39m.\u001b[39mcolumns\n\u001b[0;32m      <a href='vscode-notebook-cell:/c%3A/Users/STUTERN/Desktop/Stutern_practice/model8/lesson3.ipynb#W3sZmlsZQ%3D%3D?line=3'>4</a>\u001b[0m \u001b[39m#convert colum names to upper case\u001b[39;00m\n\u001b[1;32m----> <a href='vscode-notebook-cell:/c%3A/Users/STUTERN/Desktop/Stutern_practice/model8/lesson3.ipynb#W3sZmlsZQ%3D%3D?line=4'>5</a>\u001b[0m df\u001b[39m.\u001b[39mcolumns \u001b[39m=\u001b[39m df\u001b[39m.\u001b[39;49mcolumns\u001b[39m.\u001b[39;49mstr\u001b[39m.\u001b[39;49mtittle()\n\u001b[0;32m      <a href='vscode-notebook-cell:/c%3A/Users/STUTERN/Desktop/Stutern_practice/model8/lesson3.ipynb#W3sZmlsZQ%3D%3D?line=5'>6</a>\u001b[0m df\u001b[39m.\u001b[39mcolumns\n",
      "\u001b[1;31mAttributeError\u001b[0m: 'StringMethods' object has no attribute 'tittle'"
     ]
    }
   ],
   "source": [
    "\n",
    "#check the column name\n",
    "df.columns\n",
    "\n",
    "#convert colum names to upper case\n",
    "df.columns = df.columns.str.tittle()\n",
    "df\n",
    "\n"
   ]
  },
  {
   "cell_type": "code",
   "execution_count": null,
   "metadata": {},
   "outputs": [],
   "source": [
    "\n"
   ]
  }
 ],
 "metadata": {
  "kernelspec": {
   "display_name": "Python 3.10.5 ('.myenv': venv)",
   "language": "python",
   "name": "python3"
  },
  "language_info": {
   "codemirror_mode": {
    "name": "ipython",
    "version": 3
   },
   "file_extension": ".py",
   "mimetype": "text/x-python",
   "name": "python",
   "nbconvert_exporter": "python",
   "pygments_lexer": "ipython3",
   "version": "3.10.5"
  },
  "orig_nbformat": 4,
  "vscode": {
   "interpreter": {
    "hash": "2a6aab1a4cb7ecdfe9208d81616d2a295e5aa7d008aec110174a0f1c52db069c"
   }
  }
 },
 "nbformat": 4,
 "nbformat_minor": 2
}
